{
 "cells": [
  {
   "cell_type": "code",
   "execution_count": 1,
   "metadata": {},
   "outputs": [
    {
     "name": "stderr",
     "output_type": "stream",
     "text": [
      "2024-09-02 10:14:40,673 - modelscope - INFO - PyTorch version 2.2.1 Found.\n",
      "2024-09-02 10:14:40,675 - modelscope - INFO - Loading ast index from /home/admin/data/huggingface_model/ast_indexer\n",
      "2024-09-02 10:14:40,713 - modelscope - INFO - No valid ast index found from /home/admin/data/huggingface_model/ast_indexer, generating ast index from prebuilt!\n",
      "2024-09-02 10:14:40,763 - modelscope - INFO - Loading done! Current index file version is 1.13.3, with md5 b067ab720b5006bc79f15e4da1701195 and a total number of 972 components indexed\n"
     ]
    },
    {
     "data": {
      "application/vnd.jupyter.widget-view+json": {
       "model_id": "6023815ce59a4dfc8ee41921f75ae5ef",
       "version_major": 2,
       "version_minor": 0
      },
      "text/plain": [
       "Loading checkpoint shards:   0%|          | 0/3 [00:00<?, ?it/s]"
      ]
     },
     "metadata": {},
     "output_type": "display_data"
    },
    {
     "name": "stderr",
     "output_type": "stream",
     "text": [
      "/home/admin/data/anaconda3/envs/plangpt2/lib/python3.10/site-packages/transformers/generation/configuration_utils.py:515: UserWarning: `do_sample` is set to `False`. However, `temperature` is set to `0.9` -- this flag is only used in sample-based generation modes. You should set `do_sample=True` or unset `temperature`. This was detected when initializing the generation config instance, which means the corresponding file may hold incorrect parameterization and should be fixed.\n",
      "  warnings.warn(\n",
      "/home/admin/data/anaconda3/envs/plangpt2/lib/python3.10/site-packages/transformers/generation/configuration_utils.py:520: UserWarning: `do_sample` is set to `False`. However, `top_p` is set to `0.6` -- this flag is only used in sample-based generation modes. You should set `do_sample=True` or unset `top_p`. This was detected when initializing the generation config instance, which means the corresponding file may hold incorrect parameterization and should be fixed.\n",
      "  warnings.warn(\n",
      "/home/admin/data/anaconda3/envs/plangpt2/lib/python3.10/site-packages/transformers/generation/configuration_utils.py:515: UserWarning: `do_sample` is set to `False`. However, `temperature` is set to `0.9` -- this flag is only used in sample-based generation modes. You should set `do_sample=True` or unset `temperature`.\n",
      "  warnings.warn(\n",
      "/home/admin/data/anaconda3/envs/plangpt2/lib/python3.10/site-packages/transformers/generation/configuration_utils.py:520: UserWarning: `do_sample` is set to `False`. However, `top_p` is set to `0.6` -- this flag is only used in sample-based generation modes. You should set `do_sample=True` or unset `top_p`.\n",
      "  warnings.warn(\n"
     ]
    }
   ],
   "source": [
    "\n",
    "from modelscope import AutoModelForCausalLM, AutoTokenizer\n",
    "device = \"cuda\" # the device to load the model onto\n",
    "\n",
    "pth = \"/home/admin/data/huggingface_model/lukeminglkm/instagger_llama2\"\n",
    "model = AutoModelForCausalLM.from_pretrained(\n",
    "    pth,\n",
    "    torch_dtype=\"auto\",\n",
    "    device_map=\"auto\",\n",
    "    # cache_dir=\"......\" #  加载路径\n",
    ")\n",
    "tokenizer = AutoTokenizer.from_pretrained(pth)\n",
    "# # 假设你已经有一个 tokenizer 对象，并且它有 chat_template 和 default_chat_template 属性\n",
    "# tokenizer.chat_template = tokenizer.default_chat_template\n",
    "\n",
    "def get_tags_template(user_query):\n",
    "    tags_template = f\"\"\"You are a helpful assistant. Please identify tags of user intentions in the following user query and provide an explanation for each tag. Please respond in the JSON format {{\"tag\": \"str\", \"explanation\": \"str\"}}.\n",
    "Query: {user_query} \n",
    "Assistant:\"\"\" \n",
    "    return tags_template\n",
    "\n",
    "# 示例用法\n",
    "prompt = \"Give me a short introduction to large language model, and explain how it works, and what are the applications of it.\"\n",
    "text = get_tags_template(prompt)\n",
    "\n",
    "model_inputs = tokenizer([text], return_tensors=\"pt\").to(device)\n",
    "\n",
    "generated_ids = model.generate(\n",
    "    model_inputs.input_ids,\n",
    "    max_new_tokens=512\n",
    ")\n",
    "generated_ids = [\n",
    "    output_ids[len(input_ids):] for input_ids, output_ids in zip(model_inputs.input_ids, generated_ids)\n",
    "]\n",
    "\n",
    "response = tokenizer.batch_decode(generated_ids, skip_special_tokens=True)[0]\n",
    "print(response)\n",
    "\n",
    "\n"
   ]
  },
  {
   "cell_type": "code",
   "execution_count": 10,
   "metadata": {},
   "outputs": [
    {
     "name": "stdout",
     "output_type": "stream",
     "text": [
      "You are a helpful assistant. Please identify tags of user intentions in the following user query and provide an explanation for each tag. Please respond in the JSON format {\"tag\": \"str\", \"explanation\": \"str\"}.\n",
      "Query: Give me a short introduction to large language model, and explain how it works, and what are the applications of it. \n",
      "Assistant:\n"
     ]
    }
   ],
   "source": [
    "# # 假设你已经有一个 tokenizer 对象，并且它有 chat_template 和 default_chat_template 属性\n",
    "# tokenizer.chat_template = tokenizer.default_chat_template\n",
    "\n",
    "def get_tags_template(user_query):\n",
    "    tags_template = f\"\"\"You are a helpful assistant. Please identify tags of user intentions in the following user query and provide an explanation for each tag. Please respond in the JSON format {{\"tag\": \"str\", \"explanation\": \"str\"}}.\n",
    "Query: {user_query} \n",
    "Assistant:\"\"\" \n",
    "    return tags_template\n",
    "\n",
    "# 示例用法\n",
    "prompt = \"Give me a short introduction to large language model, and explain how it works, and what are the applications of it.\"\n",
    "text = get_tags_template(prompt)\n",
    "\n",
    "print(text)  # 打印生成的文本"
   ]
  },
  {
   "cell_type": "code",
   "execution_count": 11,
   "metadata": {},
   "outputs": [
    {
     "name": "stdout",
     "output_type": "stream",
     "text": [
      "[{\"tag\": \"information request\", \"explanation\": \"The user is requesting information about a specific topic.\"}, {\"tag\": \"explanation request\", \"explanation\": \"The user is requesting an explanation of how something works.\"}, {\"tag\": \"application request\", \"explanation\": \"The user is requesting information about the applications of a specific technology.\"}]\n"
     ]
    }
   ],
   "source": [
    "# text = tokenizer.apply_chat_template(\n",
    "#     messages,\n",
    "#     tokenize=False,\n",
    "#     add_generation_prompt=True\n",
    "# )\n",
    "\n",
    "model_inputs = tokenizer([text], return_tensors=\"pt\").to(device)\n",
    "\n",
    "generated_ids = model.generate(\n",
    "    model_inputs.input_ids,\n",
    "    max_new_tokens=512\n",
    ")\n",
    "generated_ids = [\n",
    "    output_ids[len(input_ids):] for input_ids, output_ids in zip(model_inputs.input_ids, generated_ids)\n",
    "]\n",
    "\n",
    "response = tokenizer.batch_decode(generated_ids, skip_special_tokens=True)[0]\n",
    "print(response)\n",
    "\n",
    "\n"
   ]
  },
  {
   "cell_type": "code",
   "execution_count": 3,
   "metadata": {},
   "outputs": [
    {
     "name": "stderr",
     "output_type": "stream",
     "text": [
      "No chat template is set for this tokenizer, falling back to a default class-level template. This is very error-prone, because models are often trained with templates different from the class default! Default chat templates are a legacy feature and will be removed in Transformers v4.43, at which point any code depending on them will stop working. We recommend setting a valid chat template before then to ensure that this model continues working without issues.\n"
     ]
    }
   ],
   "source": [
    "\n",
    "# ### use template\n",
    "# prompt = \"Give me a short introduction to large language model.\"\n",
    "# messages = [\n",
    "#     {\"role\": \"system\", \"content\": \"You are a helpful assistant.\"},\n",
    "#     {\"role\": \"user\", \"content\": prompt}\n",
    "# ]\n",
    "# text = tokenizer.apply_chat_template(\n",
    "#     messages,\n",
    "#     tokenize=False,\n",
    "#     add_generation_prompt=True\n",
    "# )\n"
   ]
  },
  {
   "cell_type": "code",
   "execution_count": null,
   "metadata": {},
   "outputs": [],
   "source": []
  }
 ],
 "metadata": {
  "kernelspec": {
   "display_name": "Python 3",
   "language": "python",
   "name": "python3"
  },
  "language_info": {
   "codemirror_mode": {
    "name": "ipython",
    "version": 3
   },
   "file_extension": ".py",
   "mimetype": "text/x-python",
   "name": "python",
   "nbconvert_exporter": "python",
   "pygments_lexer": "ipython3",
   "version": "3.10.14"
  }
 },
 "nbformat": 4,
 "nbformat_minor": 2
}
