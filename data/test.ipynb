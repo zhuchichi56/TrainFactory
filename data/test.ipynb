{
 "cells": [
  {
   "cell_type": "code",
   "execution_count": 3,
   "metadata": {},
   "outputs": [
    {
     "name": "stdout",
     "output_type": "stream",
     "text": [
      "1\n"
     ]
    }
   ],
   "source": [
    "print(1)\n",
    "# /fs-computility/llmit_d/shared/zhuhe/Gap/landsacpe/data/MetaMathQA-40K.json\n",
    "# query -> instruction\n",
    "# answer -> output\n",
    "\n",
    "import json\n",
    "\n",
    "with open(\"/fs-computility/llmit_d/shared/zhuhe/Gap/landsacpe/data/MetaMathQA-40K.json\", \"r\") as f:\n",
    "    data = json.load(f)\n",
    "\n",
    "new_data = []\n",
    "for item in data:\n",
    "    new_data.append({\n",
    "        \"instruction\": item[\"query\"],\n",
    "        \"response\": item[\"response\"],\n",
    "        \"type\": item[\"type\"]\n",
    "    })\n",
    "\n",
    "def save_jsonl(data, path):\n",
    "    with open(path, \"w\") as f:\n",
    "        for item in data:\n",
    "            f.write(json.dumps(item) + \"\\n\")\n",
    "\n",
    "save_jsonl(new_data, \"/fs-computility/llmit_d/shared/zhuhe/Gap/landsacpe/data/MetaMathQA-40K-new.jsonl\")\n"
   ]
  },
  {
   "cell_type": "code",
   "execution_count": 1,
   "metadata": {},
   "outputs": [
    {
     "name": "stdout",
     "output_type": "stream",
     "text": [
      "Missing: /fs-computility/llmit_d/shared/zhuhe/Gap/sft-selection/data/Llama-3-8B/landscape_bottom_10_percent_Llama-3-8B.jsonl\n",
      "Missing: /fs-computility/llmit_d/shared/zhuhe/Gap/sft-selection/data/Llama-3-8B/landscape_middle_10_percent_Llama-3-8B.jsonl\n",
      "Missing: /fs-computility/llmit_d/shared/zhuhe/Gap/sft-selection/data/Llama-3-8B/landscape_top_10_percent_Llama-3-8B.jsonl\n",
      "Missing: /fs-computility/llmit_d/shared/zhuhe/Gap/sft-selection/data/Llama-3-8B/longest_instruction_top_10_percent_Llama-3-8B.jsonl\n",
      "Missing: /fs-computility/llmit_d/shared/zhuhe/Gap/sft-selection/data/Llama-3-8B/middle_10_percent_llama3-8b.jsonl\n",
      "Missing: /fs-computility/llmit_d/shared/zhuhe/Gap/sft-selection/data/Llama-3-8B/ppl_bottom_10_percent_Llama-3-8B.jsonl\n",
      "Missing: /fs-computility/llmit_d/shared/zhuhe/Gap/sft-selection/data/Llama-3-8B/ppl_middle_10_percent_Llama-3-8B.jsonl\n",
      "Missing: /fs-computility/llmit_d/shared/zhuhe/Gap/sft-selection/data/Llama-3-8B/ppl_top_10_percent_Llama-3-8B.jsonl\n",
      "Missing: /fs-computility/llmit_d/shared/zhuhe/Gap/sft-selection/data/Llama-3-8B/longest_ratio_top_10_percent_Llama-3-8B.jsonl\n"
     ]
    }
   ],
   "source": [
    "import os\n",
    "\n",
    "paths = [\n",
    "    \"/fs-computility/llmit_d/shared/zhuhe/Gap/sft-selection/data/Llama-3-8B/landscape_bottom_10_percent_Llama-3-8B.jsonl\",\n",
    "    \"/fs-computility/llmit_d/shared/zhuhe/Gap/sft-selection/data/Llama-3-8B/landscape_middle_10_percent_Llama-3-8B.jsonl\", \n",
    "    \"/fs-computility/llmit_d/shared/zhuhe/Gap/sft-selection/data/Llama-3-8B/landscape_top_10_percent_Llama-3-8B.jsonl\",\n",
    "    \"/fs-computility/llmit_d/shared/zhuhe/Gap/sft-selection/data/Llama-3-8B/longest_instruction_top_10_percent_Llama-3-8B.jsonl\",\n",
    "    \"/fs-computility/llmit_d/shared/zhuhe/Gap/sft-selection/data/Llama-3-8B/middle_10_percent_llama3-8b.jsonl\",\n",
    "    \"/fs-computility/llmit_d/shared/zhuhe/Gap/sft-selection/data/Llama-3-8B/ppl_bottom_10_percent_Llama-3-8B.jsonl\",\n",
    "    \"/fs-computility/llmit_d/shared/zhuhe/Gap/sft-selection/data/Llama-3-8B/ppl_middle_10_percent_Llama-3-8B.jsonl\", \n",
    "    \"/fs-computility/llmit_d/shared/zhuhe/Gap/sft-selection/data/Llama-3-8B/ppl_top_10_percent_Llama-3-8B.jsonl\",\n",
    "    \"/fs-computility/llmit_d/shared/zhuhe/Gap/sft-selection/data/Llama-3-8B/longest_ratio_top_10_percent_Llama-3-8B.jsonl\"\n",
    "]\n",
    "\n",
    "for path in paths:\n",
    "    \n",
    "    if os.path.exists(path):\n",
    "        print(f\"Found: {path}\")\n",
    "    else:\n",
    "        print(f\"Missing: {path}\")"
   ]
  },
  {
   "cell_type": "code",
   "execution_count": 4,
   "metadata": {},
   "outputs": [
    {
     "name": "stdout",
     "output_type": "stream",
     "text": [
      "1\n",
      "51553\n"
     ]
    }
   ],
   "source": [
    "\n",
    "# /fs-computility/llmit_d/shared/zhuhe/Gap/landsacpe/data/alpaca_sft_ifd_ray.jsonl\n",
    "import json\n",
    "def load_data(file_path):\n",
    "    with open(file_path, 'r') as f:\n",
    "        data = json.load(f)\n",
    "    return data\n",
    "\n",
    "data = load_data('/fs-computility/llmit_d/shared/zhuhe/Gap/landsacpe/data/alpaca_sft_ppl_ray.jsonl')\n",
    "# print(data) \n",
    "\n",
    "\n",
    "print(1)\n",
    "print(len(data))\n",
    "\n",
    "def save_jsonl(data_path, texts):\n",
    "    with open(data_path, 'w') as f:\n",
    "        for item in texts:\n",
    "            f.write(json.dumps(item) + '\\n')\n",
    "            \n",
    "            \n",
    "            \n",
    "save_jsonl('/fs-computility/llmit_d/shared/zhuhe/Gap/landsacpe/data/alpaca_sft_ppl.jsonl', data)\n"
   ]
  },
  {
   "cell_type": "code",
   "execution_count": 3,
   "metadata": {},
   "outputs": [],
   "source": [
    "def save_jsonl(data_path, texts):\n",
    "    with open(data_path, 'w') as f:\n",
    "        for item in texts:\n",
    "            f.write(json.dumps(item) + '\\n')\n",
    "\n",
    "save_jsonl('/fs-computility/llmit_d/shared/zhuhe/Gap/landsacpe/data/alpaca_sft_ifd_ray1.jsonl', data)\n"
   ]
  },
  {
   "cell_type": "code",
   "execution_count": 7,
   "metadata": {},
   "outputs": [
    {
     "name": "stdout",
     "output_type": "stream",
     "text": [
      "{'instruction': 'Write a script for a one-minute skit', 'response': '(Scene: A messy room with clothes and books scattered all over the floor. A person, Emma, is frantically searching for something.)\\n\\nEmma: (Sighing) Ugh, where did I put my keys? I’m already late for my appointment! \\n\\nAI Assistant: (voiceover) Emma, it looks like you’re having trouble finding your keys. Would you like me to help you locate them?\\n\\nEmma: (starts) Oh, yeah please! I’m so stressed out right now.\\n\\nAI Assistant: (voiceover) Don’t worry, Emma. According to my recent scans of the room, your keys are under that pile of clothes near the bed.\\n\\nEmma: (moves to the bed and lifts up a pile of clothes) Ah ha! Yes, there they are! Thank you so much. I would have been late for sure.\\n\\nAI Assistant: (voiceover) It was my pleasure to assist you, Emma. Just a reminder, your appointment is in 30 minutes.\\n\\nEmma: That’s right! I should hurry up. Thanks again, AI assistant.\\n\\nAI Assistant: (voiceover) You’re welcome, Emma. Take care and have a great day!\\n\\n(Emma exits the room, turning off the light as she leaves. The room is now neat as the AI has tidied it up.)\\n\\nAI Assistant: (voiceover) Goodbye, Emma!\\n\\n(End of scene)', 'ifd_score': 1.0}\n",
      "{'instruction': \"Research Einstein's theory of relativity and provide a brief explanation.\", 'response': \"Einstein's theory of relativity refers to two theories: general relativity and special relativity. \\n\\nSpecial relativity, published in 1905, describes the physical laws that govern the motion of objects moving at a constant speed in a straight line, close to or at the speed of light. It is based on the idea that the laws of physics are the same for all non-accelerating observers, and that the speed of light is constant for all observers, regardless of the relative motion of the source. This theory introduced new concepts such as the famous mass-energy equivalence formula, E = mc².\\n\\nGeneral relativity, published in 1915, expanded on special relativity by including gravity and acceleration. It describes gravity not as a force between masses, but as the curvature of space and time caused by mass and energy. According to this theory, massive objects cause a distortion in space-time, and other objects, including light, follow curved paths in the presence of this distortion.\\n\\nEinstein's theory of relativity revolutionized our understanding of space, time, and gravity, and has had many successful experimental confirmations, including the bending of light by the sun, the mercury's orbit, and the detection of gravitational waves. It is seen as one of the two pillars of modern physics, alongside quantum mechanics.\", 'ifd_score': 0.9453125}\n"
     ]
    }
   ],
   "source": [
    "# 选top10%\n",
    "def load_jsonl(file_path):\n",
    "    with open(file_path, 'r') as f:\n",
    "        data = [json.loads(line.strip()) for line in f if line.strip()]\n",
    "    return data\n",
    "\n",
    "data = load_jsonl('/fs-computility/llmit_d/shared/zhuhe/Gap/landsacpe/data/alpaca_sft_ifd_ray1.jsonl')\n",
    "    \n",
    "high_data = sorted(data, key=lambda x: x['ifd_score'], reverse=True)\n",
    "print(high_data[0])\n",
    "data = data[:int(len(data) * 0.1)]\n",
    "save_jsonl('/fs-computility/llmit_d/shared/zhuhe/Gap/landsacpe/data/alpaca_sft_ifd_ray1_top10.jsonl', high_data)\n",
    "\n",
    "low_data =  sorted(data, key=lambda x: x['ifd_score'], reverse=False)\n",
    "print(low_data[0])\n",
    "data = data[:int(len(data) * 0.1)]\n",
    "save_jsonl('/fs-computility/llmit_d/shared/zhuhe/Gap/landsacpe/data/alpaca_sft_ifd_ray1_bottom10.jsonl', data)\n",
    "\n",
    "\n"
   ]
  },
  {
   "cell_type": "code",
   "execution_count": null,
   "metadata": {},
   "outputs": [],
   "source": []
  }
 ],
 "metadata": {
  "kernelspec": {
   "display_name": "llf",
   "language": "python",
   "name": "python3"
  },
  "language_info": {
   "codemirror_mode": {
    "name": "ipython",
    "version": 3
   },
   "file_extension": ".py",
   "mimetype": "text/x-python",
   "name": "python",
   "nbconvert_exporter": "python",
   "pygments_lexer": "ipython3",
   "version": "3.10.18"
  }
 },
 "nbformat": 4,
 "nbformat_minor": 2
}
